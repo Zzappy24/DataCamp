{
 "cells": [
  {
   "cell_type": "markdown",
   "metadata": {},
   "source": [
    "# READ ME"
   ]
  },
  {
   "cell_type": "markdown",
   "metadata": {},
   "source": [
    "INSTALLATION of all the packages"
   ]
  },
  {
   "cell_type": "markdown",
   "metadata": {},
   "source": [
    "We used a lot of packages but not be afraid, you can install them we just in one command.\n",
    "\n",
    "First, open a terminal\n",
    "\n",
    "Then, verify in the terminal that you are in the folder DataCamp, if not go in.\n",
    "\n",
    "Write in the terminal : \n",
    "\n",
    "#### pip install -r requirements.txt\n",
    "\n",
    "This will last a few seconds or minutes.\n",
    "\n",
    "DONE !!!\n",
    "\n"
   ]
  },
  {
   "cell_type": "markdown",
   "metadata": {},
   "source": [
    "# use our App\n",
    "\n",
    "To launch the application, you must open a terminal and verify you are in the folder DataCamp.\n",
    "When you are in, write in the terminal : \n",
    "\n",
    "#### streamlit run main.py\n",
    "\n",
    "To use it in the cloud go in : https://zzappy24-datacamp-main-qth8fg.streamlitapp.com/dashboard\n",
    "\n",
    "github : https://github.com/Zzappy24/DataCamp"
   ]
  },
  {
   "cell_type": "markdown",
   "metadata": {},
   "source": [
    "# ATENTION : \n",
    "- if you launch an other file than main.py, you will not be able to navigate between the page. So please write : streamlit run main.py\n",
    "- For M1/M1_pro/M2 user's, you will not be able to run the bert.py because there is an architecture issue with : \"from transformers import pipeline\". There is one solution to install the package but it is easier to open the cloud version of our website : \n",
    "https://zzappy24-datacamp-main-qth8fg.streamlitapp.com/dashboard\n",
    "\n",
    "\n",
    "\n"
   ]
  }
 ],
 "metadata": {
  "kernelspec": {
   "display_name": "Python 3.10.7 ('zappy-4trETFn8')",
   "language": "python",
   "name": "python3"
  },
  "language_info": {
   "name": "python",
   "version": "3.10.7"
  },
  "orig_nbformat": 4,
  "vscode": {
   "interpreter": {
    "hash": "fb56326100b60830e42d6520bc8926981817da01ae60f62378fc7214fc55e45c"
   }
  }
 },
 "nbformat": 4,
 "nbformat_minor": 2
}
