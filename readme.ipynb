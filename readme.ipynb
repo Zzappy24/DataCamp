{
 "cells": [
  {
   "cell_type": "markdown",
   "metadata": {},
   "source": [
    "# READ ME"
   ]
  },
  {
   "cell_type": "markdown",
   "metadata": {},
   "source": [
    "INSTALLATION of all the packages"
   ]
  },
  {
   "cell_type": "code",
   "execution_count": null,
   "metadata": {},
   "outputs": [],
   "source": [
    "%pip install -r requirements.txt"
   ]
  },
  {
   "cell_type": "markdown",
   "metadata": {},
   "source": [
    "To launch the application, you must open a terminal and verify you are in the folder DataCamp.\n",
    "When you are in, write in the terminal : \n",
    "streamlit run main.py"
   ]
  },
  {
   "cell_type": "markdown",
   "metadata": {},
   "source": [
    "ATENTION : \n",
    "- if you launch an other file than main.py, you will not be able to navigate between the page. So please write : streamlit run main.py\n",
    "- For M1/M1_pro/M2 user's, you will not be able to run the bert.py because there is an architecture issue with : \"from transformers import pipeline\". There is one solution to install the package but it is easier to open the cloud version of our website : \n",
    "https://zzappy24-datacamp-main-qth8fg.streamlitapp.com/dashboard\n",
    "\n",
    "\n",
    "\n"
   ]
  }
 ],
 "metadata": {
  "language_info": {
   "name": "python"
  },
  "orig_nbformat": 4
 },
 "nbformat": 4,
 "nbformat_minor": 2
}
